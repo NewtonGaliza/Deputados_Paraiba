{
 "cells": [
  {
   "cell_type": "markdown",
   "metadata": {},
   "source": [
    "## Imports Necessários"
   ]
  },
  {
   "cell_type": "code",
   "execution_count": 1,
   "metadata": {},
   "outputs": [],
   "source": [
    "import requests\n",
    "import csv"
   ]
  },
  {
   "cell_type": "markdown",
   "metadata": {},
   "source": [
    "## Guardando os Deputados do Brasil e da Paraíba"
   ]
  },
  {
   "cell_type": "code",
   "execution_count": 5,
   "metadata": {},
   "outputs": [],
   "source": [
    "deputadosBr = []\n",
    "deputadosPb = []\n",
    "\n",
    "def DeputadosBr(deputadosBr):\n",
    "    url = 'https://dadosabertos.camara.leg.br/api/v2/deputados'\n",
    "    for pagina in [1,2,3,4,5,6]:\n",
    "        parametros = {'formato':'json', 'itens':100, 'pagina':pagina}\n",
    "        resposta = requests.get(url, parametros)\n",
    "        for deputado in resposta.json()['dados']:\n",
    "            deputadosBr.append(deputado)\n",
    "            \n",
    "            if deputado['siglaUf'] == 'PB':\n",
    "                deputadosPb.append(deputado)\n",
    "\n",
    "DeputadosBr(deputadosBr)      "
   ]
  },
  {
   "cell_type": "markdown",
   "metadata": {},
   "source": [
    "## Montando um arquivo csv, com o contato dos deputados da PB"
   ]
  },
  {
   "cell_type": "code",
   "execution_count": 6,
   "metadata": {},
   "outputs": [],
   "source": [
    "arquivo_saida =  open('deputadosPb.csv', mode='w', encoding='utf-8')\n",
    "escritor = csv.writer(arquivo_saida, lineterminator='\\n')\n",
    "escritor.writerow(['Nome', 'Partido', 'Email', 'Telefone'])\n",
    "\n",
    "parametros = {'formato': 'json'}\n",
    "for deputados in deputadosPb:\n",
    "    url = deputados['uri']\n",
    "    resposta = requests.get(url, parametros)\n",
    "    escritor.writerow([resposta.json()['dados']['ultimoStatus']['nome'], resposta.json()['dados']['ultimoStatus']['siglaPartido'], resposta.json()['dados']['ultimoStatus']['gabinete']['email'], resposta.json()['dados']['ultimoStatus']['gabinete']['telefone']])\n",
    "arquivo_saida.close()"
   ]
  },
  {
   "cell_type": "markdown",
   "metadata": {},
   "source": [
    "<div align=\"center\">\n",
    "    <h2>\n",
    "        Por: Newton Galiza\n",
    "        newtonjgaliza@gmail.com\n",
    "    </h2>\n",
    "</div>"
   ]
  }
 ],
 "metadata": {
  "kernelspec": {
   "display_name": "Python 3",
   "language": "python",
   "name": "python3"
  },
  "language_info": {
   "codemirror_mode": {
    "name": "ipython",
    "version": 3
   },
   "file_extension": ".py",
   "mimetype": "text/x-python",
   "name": "python",
   "nbconvert_exporter": "python",
   "pygments_lexer": "ipython3",
   "version": "3.4.3"
  }
 },
 "nbformat": 4,
 "nbformat_minor": 2
}
